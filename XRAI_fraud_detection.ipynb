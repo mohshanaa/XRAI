{
 "cells": [
  {
   "cell_type": "code",
   "execution_count": 413,
   "metadata": {
    "colab": {
     "base_uri": "https://localhost:8080/"
    },
    "executionInfo": {
     "elapsed": 33224,
     "status": "ok",
     "timestamp": 1739007132887,
     "user": {
      "displayName": "Mohammad Shanaa",
      "userId": "06611199972742748940"
     },
     "user_tz": -240
    },
    "id": "C5-hPeo8Gao7",
    "outputId": "8cea06d4-1b9c-4001-cb26-efb9da2a66c6"
   },
   "outputs": [
    {
     "name": "stdout",
     "output_type": "stream",
     "text": [
      "Requirement already satisfied: tensorflow in /opt/anaconda3/lib/python3.12/site-packages (2.18.0)\n",
      "Requirement already satisfied: absl-py>=1.0.0 in /opt/anaconda3/lib/python3.12/site-packages (from tensorflow) (2.1.0)\n",
      "Requirement already satisfied: astunparse>=1.6.0 in /opt/anaconda3/lib/python3.12/site-packages (from tensorflow) (1.6.3)\n",
      "Requirement already satisfied: flatbuffers>=24.3.25 in /opt/anaconda3/lib/python3.12/site-packages (from tensorflow) (25.2.10)\n",
      "Requirement already satisfied: gast!=0.5.0,!=0.5.1,!=0.5.2,>=0.2.1 in /opt/anaconda3/lib/python3.12/site-packages (from tensorflow) (0.6.0)\n",
      "Requirement already satisfied: google-pasta>=0.1.1 in /opt/anaconda3/lib/python3.12/site-packages (from tensorflow) (0.2.0)\n",
      "Requirement already satisfied: libclang>=13.0.0 in /opt/anaconda3/lib/python3.12/site-packages (from tensorflow) (18.1.1)\n",
      "Requirement already satisfied: opt-einsum>=2.3.2 in /opt/anaconda3/lib/python3.12/site-packages (from tensorflow) (3.4.0)\n",
      "Requirement already satisfied: packaging in /opt/anaconda3/lib/python3.12/site-packages (from tensorflow) (24.1)\n",
      "Requirement already satisfied: protobuf!=4.21.0,!=4.21.1,!=4.21.2,!=4.21.3,!=4.21.4,!=4.21.5,<6.0.0dev,>=3.20.3 in /opt/anaconda3/lib/python3.12/site-packages (from tensorflow) (4.25.3)\n",
      "Requirement already satisfied: requests<3,>=2.21.0 in /opt/anaconda3/lib/python3.12/site-packages (from tensorflow) (2.32.3)\n",
      "Requirement already satisfied: setuptools in /opt/anaconda3/lib/python3.12/site-packages (from tensorflow) (75.1.0)\n",
      "Requirement already satisfied: six>=1.12.0 in /opt/anaconda3/lib/python3.12/site-packages (from tensorflow) (1.16.0)\n",
      "Requirement already satisfied: termcolor>=1.1.0 in /opt/anaconda3/lib/python3.12/site-packages (from tensorflow) (2.5.0)\n",
      "Requirement already satisfied: typing-extensions>=3.6.6 in /opt/anaconda3/lib/python3.12/site-packages (from tensorflow) (4.11.0)\n",
      "Requirement already satisfied: wrapt>=1.11.0 in /opt/anaconda3/lib/python3.12/site-packages (from tensorflow) (1.14.1)\n",
      "Requirement already satisfied: grpcio<2.0,>=1.24.3 in /opt/anaconda3/lib/python3.12/site-packages (from tensorflow) (1.70.0)\n",
      "Requirement already satisfied: tensorboard<2.19,>=2.18 in /opt/anaconda3/lib/python3.12/site-packages (from tensorflow) (2.18.0)\n",
      "Requirement already satisfied: keras>=3.5.0 in /opt/anaconda3/lib/python3.12/site-packages (from tensorflow) (3.8.0)\n",
      "Requirement already satisfied: numpy<2.1.0,>=1.26.0 in /opt/anaconda3/lib/python3.12/site-packages (from tensorflow) (1.26.4)\n",
      "Requirement already satisfied: h5py>=3.11.0 in /opt/anaconda3/lib/python3.12/site-packages (from tensorflow) (3.11.0)\n",
      "Requirement already satisfied: ml-dtypes<0.5.0,>=0.4.0 in /opt/anaconda3/lib/python3.12/site-packages (from tensorflow) (0.4.1)\n",
      "Requirement already satisfied: wheel<1.0,>=0.23.0 in /opt/anaconda3/lib/python3.12/site-packages (from astunparse>=1.6.0->tensorflow) (0.44.0)\n",
      "Requirement already satisfied: rich in /opt/anaconda3/lib/python3.12/site-packages (from keras>=3.5.0->tensorflow) (13.7.1)\n",
      "Requirement already satisfied: namex in /opt/anaconda3/lib/python3.12/site-packages (from keras>=3.5.0->tensorflow) (0.0.8)\n",
      "Requirement already satisfied: optree in /opt/anaconda3/lib/python3.12/site-packages (from keras>=3.5.0->tensorflow) (0.14.1)\n",
      "Requirement already satisfied: charset-normalizer<4,>=2 in /opt/anaconda3/lib/python3.12/site-packages (from requests<3,>=2.21.0->tensorflow) (3.3.2)\n",
      "Requirement already satisfied: idna<4,>=2.5 in /opt/anaconda3/lib/python3.12/site-packages (from requests<3,>=2.21.0->tensorflow) (3.7)\n",
      "Requirement already satisfied: urllib3<3,>=1.21.1 in /opt/anaconda3/lib/python3.12/site-packages (from requests<3,>=2.21.0->tensorflow) (2.2.3)\n",
      "Requirement already satisfied: certifi>=2017.4.17 in /opt/anaconda3/lib/python3.12/site-packages (from requests<3,>=2.21.0->tensorflow) (2025.1.31)\n",
      "Requirement already satisfied: markdown>=2.6.8 in /opt/anaconda3/lib/python3.12/site-packages (from tensorboard<2.19,>=2.18->tensorflow) (3.4.1)\n",
      "Requirement already satisfied: tensorboard-data-server<0.8.0,>=0.7.0 in /opt/anaconda3/lib/python3.12/site-packages (from tensorboard<2.19,>=2.18->tensorflow) (0.7.2)\n",
      "Requirement already satisfied: werkzeug>=1.0.1 in /opt/anaconda3/lib/python3.12/site-packages (from tensorboard<2.19,>=2.18->tensorflow) (3.0.3)\n",
      "Requirement already satisfied: MarkupSafe>=2.1.1 in /opt/anaconda3/lib/python3.12/site-packages (from werkzeug>=1.0.1->tensorboard<2.19,>=2.18->tensorflow) (2.1.3)\n",
      "Requirement already satisfied: markdown-it-py>=2.2.0 in /opt/anaconda3/lib/python3.12/site-packages (from rich->keras>=3.5.0->tensorflow) (2.2.0)\n",
      "Requirement already satisfied: pygments<3.0.0,>=2.13.0 in /opt/anaconda3/lib/python3.12/site-packages (from rich->keras>=3.5.0->tensorflow) (2.15.1)\n",
      "Requirement already satisfied: mdurl~=0.1 in /opt/anaconda3/lib/python3.12/site-packages (from markdown-it-py>=2.2.0->rich->keras>=3.5.0->tensorflow) (0.1.0)\n",
      "\n",
      "\u001b[1m[\u001b[0m\u001b[34;49mnotice\u001b[0m\u001b[1;39;49m]\u001b[0m\u001b[39;49m A new release of pip is available: \u001b[0m\u001b[31;49m25.0.1\u001b[0m\u001b[39;49m -> \u001b[0m\u001b[32;49m25.1.1\u001b[0m\n",
      "\u001b[1m[\u001b[0m\u001b[34;49mnotice\u001b[0m\u001b[1;39;49m]\u001b[0m\u001b[39;49m To update, run: \u001b[0m\u001b[32;49mpip install --upgrade pip\u001b[0m\n",
      "Note: you may need to restart the kernel to use updated packages.\n",
      "Requirement already satisfied: scikit-learn in /opt/anaconda3/lib/python3.12/site-packages (1.6.1)\n",
      "Requirement already satisfied: numpy>=1.19.5 in /opt/anaconda3/lib/python3.12/site-packages (from scikit-learn) (1.26.4)\n",
      "Requirement already satisfied: scipy>=1.6.0 in /opt/anaconda3/lib/python3.12/site-packages (from scikit-learn) (1.13.1)\n",
      "Requirement already satisfied: joblib>=1.2.0 in /opt/anaconda3/lib/python3.12/site-packages (from scikit-learn) (1.4.2)\n",
      "Requirement already satisfied: threadpoolctl>=3.1.0 in /opt/anaconda3/lib/python3.12/site-packages (from scikit-learn) (3.5.0)\n",
      "\n",
      "\u001b[1m[\u001b[0m\u001b[34;49mnotice\u001b[0m\u001b[1;39;49m]\u001b[0m\u001b[39;49m A new release of pip is available: \u001b[0m\u001b[31;49m25.0.1\u001b[0m\u001b[39;49m -> \u001b[0m\u001b[32;49m25.1.1\u001b[0m\n",
      "\u001b[1m[\u001b[0m\u001b[34;49mnotice\u001b[0m\u001b[1;39;49m]\u001b[0m\u001b[39;49m To update, run: \u001b[0m\u001b[32;49mpip install --upgrade pip\u001b[0m\n",
      "Note: you may need to restart the kernel to use updated packages.\n",
      "Requirement already satisfied: gensim in /opt/anaconda3/lib/python3.12/site-packages (4.3.3)\n",
      "Requirement already satisfied: numpy<2.0,>=1.18.5 in /opt/anaconda3/lib/python3.12/site-packages (from gensim) (1.26.4)\n",
      "Requirement already satisfied: scipy<1.14.0,>=1.7.0 in /opt/anaconda3/lib/python3.12/site-packages (from gensim) (1.13.1)\n",
      "Requirement already satisfied: smart-open>=1.8.1 in /opt/anaconda3/lib/python3.12/site-packages (from gensim) (5.2.1)\n",
      "\n",
      "\u001b[1m[\u001b[0m\u001b[34;49mnotice\u001b[0m\u001b[1;39;49m]\u001b[0m\u001b[39;49m A new release of pip is available: \u001b[0m\u001b[31;49m25.0.1\u001b[0m\u001b[39;49m -> \u001b[0m\u001b[32;49m25.1.1\u001b[0m\n",
      "\u001b[1m[\u001b[0m\u001b[34;49mnotice\u001b[0m\u001b[1;39;49m]\u001b[0m\u001b[39;49m To update, run: \u001b[0m\u001b[32;49mpip install --upgrade pip\u001b[0m\n",
      "Note: you may need to restart the kernel to use updated packages.\n",
      "Requirement already satisfied: warcio in /opt/anaconda3/lib/python3.12/site-packages (1.7.5)\n",
      "Requirement already satisfied: six in /opt/anaconda3/lib/python3.12/site-packages (from warcio) (1.16.0)\n",
      "\n",
      "\u001b[1m[\u001b[0m\u001b[34;49mnotice\u001b[0m\u001b[1;39;49m]\u001b[0m\u001b[39;49m A new release of pip is available: \u001b[0m\u001b[31;49m25.0.1\u001b[0m\u001b[39;49m -> \u001b[0m\u001b[32;49m25.1.1\u001b[0m\n",
      "\u001b[1m[\u001b[0m\u001b[34;49mnotice\u001b[0m\u001b[1;39;49m]\u001b[0m\u001b[39;49m To update, run: \u001b[0m\u001b[32;49mpip install --upgrade pip\u001b[0m\n",
      "Note: you may need to restart the kernel to use updated packages.\n",
      "Requirement already satisfied: xgboost in /opt/anaconda3/lib/python3.12/site-packages (2.1.4)\n",
      "Requirement already satisfied: numpy in /opt/anaconda3/lib/python3.12/site-packages (from xgboost) (1.26.4)\n",
      "Requirement already satisfied: scipy in /opt/anaconda3/lib/python3.12/site-packages (from xgboost) (1.13.1)\n",
      "\n",
      "\u001b[1m[\u001b[0m\u001b[34;49mnotice\u001b[0m\u001b[1;39;49m]\u001b[0m\u001b[39;49m A new release of pip is available: \u001b[0m\u001b[31;49m25.0.1\u001b[0m\u001b[39;49m -> \u001b[0m\u001b[32;49m25.1.1\u001b[0m\n",
      "\u001b[1m[\u001b[0m\u001b[34;49mnotice\u001b[0m\u001b[1;39;49m]\u001b[0m\u001b[39;49m To update, run: \u001b[0m\u001b[32;49mpip install --upgrade pip\u001b[0m\n",
      "Note: you may need to restart the kernel to use updated packages.\n",
      "Requirement already satisfied: pandas in /opt/anaconda3/lib/python3.12/site-packages (2.2.2)\n",
      "Requirement already satisfied: numpy>=1.26.0 in /opt/anaconda3/lib/python3.12/site-packages (from pandas) (1.26.4)\n",
      "Requirement already satisfied: python-dateutil>=2.8.2 in /opt/anaconda3/lib/python3.12/site-packages (from pandas) (2.9.0.post0)\n",
      "Requirement already satisfied: pytz>=2020.1 in /opt/anaconda3/lib/python3.12/site-packages (from pandas) (2024.1)\n",
      "Requirement already satisfied: tzdata>=2022.7 in /opt/anaconda3/lib/python3.12/site-packages (from pandas) (2023.3)\n",
      "Requirement already satisfied: six>=1.5 in /opt/anaconda3/lib/python3.12/site-packages (from python-dateutil>=2.8.2->pandas) (1.16.0)\n",
      "\n",
      "\u001b[1m[\u001b[0m\u001b[34;49mnotice\u001b[0m\u001b[1;39;49m]\u001b[0m\u001b[39;49m A new release of pip is available: \u001b[0m\u001b[31;49m25.0.1\u001b[0m\u001b[39;49m -> \u001b[0m\u001b[32;49m25.1.1\u001b[0m\n",
      "\u001b[1m[\u001b[0m\u001b[34;49mnotice\u001b[0m\u001b[1;39;49m]\u001b[0m\u001b[39;49m To update, run: \u001b[0m\u001b[32;49mpip install --upgrade pip\u001b[0m\n",
      "Note: you may need to restart the kernel to use updated packages.\n"
     ]
    }
   ],
   "source": [
    "\n",
    "%pip install tensorflow\n",
    "\n",
    "%pip install scikit-learn\n",
    "\n",
    "%pip install gensim\n",
    "\n",
    "%pip install warcio\n",
    "\n",
    "%pip install xgboost\n",
    "\n",
    "%pip install pandas"
   ]
  },
  {
   "cell_type": "code",
   "execution_count": 414,
   "metadata": {
    "executionInfo": {
     "elapsed": 17695,
     "status": "ok",
     "timestamp": 1739007150580,
     "user": {
      "displayName": "Mohammad Shanaa",
      "userId": "06611199972742748940"
     },
     "user_tz": -240
    },
    "id": "IbRWDcQDWTgW"
   },
   "outputs": [],
   "source": [
    "import pandas as pd\n",
    "dataset_path = 'data/creditcard.csv'\n",
    "data = pd.read_csv(dataset_path)"
   ]
  },
  {
   "cell_type": "code",
   "execution_count": 415,
   "metadata": {
    "executionInfo": {
     "elapsed": 4234,
     "status": "ok",
     "timestamp": 1739007164960,
     "user": {
      "displayName": "Mohammad Shanaa",
      "userId": "06611199972742748940"
     },
     "user_tz": -240
    },
    "id": "IgIhWzhKPCfF"
   },
   "outputs": [],
   "source": [
    "import numpy as np\n",
    "import tensorflow as tf\n",
    "import seaborn as sns\n",
    "\n",
    "from tensorflow.keras import layers, Model\n",
    "from tensorflow.keras import regularizers\n",
    "from sklearn.preprocessing import MinMaxScaler\n",
    "from sklearn.decomposition import PCA\n",
    "from sklearn.model_selection import train_test_split\n",
    "from sklearn.metrics import classification_report, confusion_matrix\n",
    "from tensorflow.keras.callbacks import EarlyStopping\n",
    "\n",
    "\n",
    "import pandas as pd\n",
    "from sklearn.ensemble import RandomForestClassifier\n",
    "from sklearn.metrics import accuracy_score\n",
    "from sklearn.preprocessing import StandardScaler\n",
    "from sklearn.ensemble import IsolationForest\n",
    "from sklearn.neighbors import LocalOutlierFactor\n",
    "from tensorflow.keras.models import Sequential\n",
    "from tensorflow.keras.layers import Dense, Dropout\n",
    "\n",
    "from sklearn.kernel_approximation import Nystroem\n",
    "\n",
    "import matplotlib.pyplot as plt\n",
    "\n",
    "import xgboost as xgb\n",
    "from sklearn.metrics import precision_score\n",
    "\n",
    "from sklearn.metrics import precision_recall_curve\n",
    "\n",
    "from sklearn.manifold import TSNE\n"
   ]
  },
  {
   "cell_type": "code",
   "execution_count": 416,
   "metadata": {
    "colab": {
     "base_uri": "https://localhost:8080/",
     "height": 235
    },
    "collapsed": true,
    "executionInfo": {
     "elapsed": 12,
     "status": "ok",
     "timestamp": 1739007164962,
     "user": {
      "displayName": "Mohammad Shanaa",
      "userId": "06611199972742748940"
     },
     "user_tz": -240
    },
    "id": "_PQbXs6IW8Nr",
    "outputId": "8e3ae6d6-3510-4a52-91aa-ca10acb546ed"
   },
   "outputs": [
    {
     "data": {
      "text/html": [
       "<div>\n",
       "<style scoped>\n",
       "    .dataframe tbody tr th:only-of-type {\n",
       "        vertical-align: middle;\n",
       "    }\n",
       "\n",
       "    .dataframe tbody tr th {\n",
       "        vertical-align: top;\n",
       "    }\n",
       "\n",
       "    .dataframe thead th {\n",
       "        text-align: right;\n",
       "    }\n",
       "</style>\n",
       "<table border=\"1\" class=\"dataframe\">\n",
       "  <thead>\n",
       "    <tr style=\"text-align: right;\">\n",
       "      <th></th>\n",
       "      <th>Time</th>\n",
       "      <th>V1</th>\n",
       "      <th>V2</th>\n",
       "      <th>V3</th>\n",
       "      <th>V4</th>\n",
       "      <th>V5</th>\n",
       "      <th>V6</th>\n",
       "      <th>V7</th>\n",
       "      <th>V8</th>\n",
       "      <th>V9</th>\n",
       "      <th>...</th>\n",
       "      <th>V21</th>\n",
       "      <th>V22</th>\n",
       "      <th>V23</th>\n",
       "      <th>V24</th>\n",
       "      <th>V25</th>\n",
       "      <th>V26</th>\n",
       "      <th>V27</th>\n",
       "      <th>V28</th>\n",
       "      <th>Amount</th>\n",
       "      <th>Class</th>\n",
       "    </tr>\n",
       "  </thead>\n",
       "  <tbody>\n",
       "    <tr>\n",
       "      <th>0</th>\n",
       "      <td>0.0</td>\n",
       "      <td>-1.359807</td>\n",
       "      <td>-0.072781</td>\n",
       "      <td>2.536347</td>\n",
       "      <td>1.378155</td>\n",
       "      <td>-0.338321</td>\n",
       "      <td>0.462388</td>\n",
       "      <td>0.239599</td>\n",
       "      <td>0.098698</td>\n",
       "      <td>0.363787</td>\n",
       "      <td>...</td>\n",
       "      <td>-0.018307</td>\n",
       "      <td>0.277838</td>\n",
       "      <td>-0.110474</td>\n",
       "      <td>0.066928</td>\n",
       "      <td>0.128539</td>\n",
       "      <td>-0.189115</td>\n",
       "      <td>0.133558</td>\n",
       "      <td>-0.021053</td>\n",
       "      <td>149.62</td>\n",
       "      <td>0</td>\n",
       "    </tr>\n",
       "    <tr>\n",
       "      <th>1</th>\n",
       "      <td>0.0</td>\n",
       "      <td>1.191857</td>\n",
       "      <td>0.266151</td>\n",
       "      <td>0.166480</td>\n",
       "      <td>0.448154</td>\n",
       "      <td>0.060018</td>\n",
       "      <td>-0.082361</td>\n",
       "      <td>-0.078803</td>\n",
       "      <td>0.085102</td>\n",
       "      <td>-0.255425</td>\n",
       "      <td>...</td>\n",
       "      <td>-0.225775</td>\n",
       "      <td>-0.638672</td>\n",
       "      <td>0.101288</td>\n",
       "      <td>-0.339846</td>\n",
       "      <td>0.167170</td>\n",
       "      <td>0.125895</td>\n",
       "      <td>-0.008983</td>\n",
       "      <td>0.014724</td>\n",
       "      <td>2.69</td>\n",
       "      <td>0</td>\n",
       "    </tr>\n",
       "    <tr>\n",
       "      <th>2</th>\n",
       "      <td>1.0</td>\n",
       "      <td>-1.358354</td>\n",
       "      <td>-1.340163</td>\n",
       "      <td>1.773209</td>\n",
       "      <td>0.379780</td>\n",
       "      <td>-0.503198</td>\n",
       "      <td>1.800499</td>\n",
       "      <td>0.791461</td>\n",
       "      <td>0.247676</td>\n",
       "      <td>-1.514654</td>\n",
       "      <td>...</td>\n",
       "      <td>0.247998</td>\n",
       "      <td>0.771679</td>\n",
       "      <td>0.909412</td>\n",
       "      <td>-0.689281</td>\n",
       "      <td>-0.327642</td>\n",
       "      <td>-0.139097</td>\n",
       "      <td>-0.055353</td>\n",
       "      <td>-0.059752</td>\n",
       "      <td>378.66</td>\n",
       "      <td>0</td>\n",
       "    </tr>\n",
       "    <tr>\n",
       "      <th>3</th>\n",
       "      <td>1.0</td>\n",
       "      <td>-0.966272</td>\n",
       "      <td>-0.185226</td>\n",
       "      <td>1.792993</td>\n",
       "      <td>-0.863291</td>\n",
       "      <td>-0.010309</td>\n",
       "      <td>1.247203</td>\n",
       "      <td>0.237609</td>\n",
       "      <td>0.377436</td>\n",
       "      <td>-1.387024</td>\n",
       "      <td>...</td>\n",
       "      <td>-0.108300</td>\n",
       "      <td>0.005274</td>\n",
       "      <td>-0.190321</td>\n",
       "      <td>-1.175575</td>\n",
       "      <td>0.647376</td>\n",
       "      <td>-0.221929</td>\n",
       "      <td>0.062723</td>\n",
       "      <td>0.061458</td>\n",
       "      <td>123.50</td>\n",
       "      <td>0</td>\n",
       "    </tr>\n",
       "    <tr>\n",
       "      <th>4</th>\n",
       "      <td>2.0</td>\n",
       "      <td>-1.158233</td>\n",
       "      <td>0.877737</td>\n",
       "      <td>1.548718</td>\n",
       "      <td>0.403034</td>\n",
       "      <td>-0.407193</td>\n",
       "      <td>0.095921</td>\n",
       "      <td>0.592941</td>\n",
       "      <td>-0.270533</td>\n",
       "      <td>0.817739</td>\n",
       "      <td>...</td>\n",
       "      <td>-0.009431</td>\n",
       "      <td>0.798278</td>\n",
       "      <td>-0.137458</td>\n",
       "      <td>0.141267</td>\n",
       "      <td>-0.206010</td>\n",
       "      <td>0.502292</td>\n",
       "      <td>0.219422</td>\n",
       "      <td>0.215153</td>\n",
       "      <td>69.99</td>\n",
       "      <td>0</td>\n",
       "    </tr>\n",
       "  </tbody>\n",
       "</table>\n",
       "<p>5 rows × 31 columns</p>\n",
       "</div>"
      ],
      "text/plain": [
       "   Time        V1        V2        V3        V4        V5        V6        V7  \\\n",
       "0   0.0 -1.359807 -0.072781  2.536347  1.378155 -0.338321  0.462388  0.239599   \n",
       "1   0.0  1.191857  0.266151  0.166480  0.448154  0.060018 -0.082361 -0.078803   \n",
       "2   1.0 -1.358354 -1.340163  1.773209  0.379780 -0.503198  1.800499  0.791461   \n",
       "3   1.0 -0.966272 -0.185226  1.792993 -0.863291 -0.010309  1.247203  0.237609   \n",
       "4   2.0 -1.158233  0.877737  1.548718  0.403034 -0.407193  0.095921  0.592941   \n",
       "\n",
       "         V8        V9  ...       V21       V22       V23       V24       V25  \\\n",
       "0  0.098698  0.363787  ... -0.018307  0.277838 -0.110474  0.066928  0.128539   \n",
       "1  0.085102 -0.255425  ... -0.225775 -0.638672  0.101288 -0.339846  0.167170   \n",
       "2  0.247676 -1.514654  ...  0.247998  0.771679  0.909412 -0.689281 -0.327642   \n",
       "3  0.377436 -1.387024  ... -0.108300  0.005274 -0.190321 -1.175575  0.647376   \n",
       "4 -0.270533  0.817739  ... -0.009431  0.798278 -0.137458  0.141267 -0.206010   \n",
       "\n",
       "        V26       V27       V28  Amount  Class  \n",
       "0 -0.189115  0.133558 -0.021053  149.62      0  \n",
       "1  0.125895 -0.008983  0.014724    2.69      0  \n",
       "2 -0.139097 -0.055353 -0.059752  378.66      0  \n",
       "3 -0.221929  0.062723  0.061458  123.50      0  \n",
       "4  0.502292  0.219422  0.215153   69.99      0  \n",
       "\n",
       "[5 rows x 31 columns]"
      ]
     },
     "execution_count": 416,
     "metadata": {},
     "output_type": "execute_result"
    }
   ],
   "source": [
    "# Display the first few rows of the dataset\n",
    "data.head()"
   ]
  },
  {
   "cell_type": "code",
   "execution_count": 417,
   "metadata": {},
   "outputs": [],
   "source": [
    "from sklearn.preprocessing import MinMaxScaler\n",
    "from sklearn.decomposition import PCA\n",
    "from sklearn.model_selection import train_test_split\n",
    "import numpy as np\n",
    "import pandas as pd\n",
    "\n",
    "def preprocess_creditcard_data(data, outlier_removal=True, apply_pca=True, pca_variance=0.99):\n",
    "    # 1. Split features and labels\n",
    "    X = data.drop(columns=['Class'])\n",
    "    y = data['Class']\n",
    "\n",
    "    # 2. Create AE training set (use all class 0, no outlier removal)\n",
    "    X_ae = X[y == 0].copy()\n",
    "\n",
    "    # 3. For supervised models: optionally remove outliers from 'Amount'\n",
    "    X_sup = X.copy()\n",
    "    y_sup = y.copy()\n",
    "\n",
    "    if outlier_removal:\n",
    "        Q1 = X_sup['Amount'].quantile(0.25)\n",
    "        Q3 = X_sup['Amount'].quantile(0.75)\n",
    "        IQR = Q3 - Q1\n",
    "        lower_bound = Q1 - 1.5 * IQR\n",
    "        upper_bound = Q3 + 1.5 * IQR\n",
    "        outlier_mask = (X_sup['Amount'] >= lower_bound) & (X_sup['Amount'] <= upper_bound)\n",
    "\n",
    "        X_sup = X_sup[outlier_mask]\n",
    "        y_sup = y_sup[outlier_mask]\n",
    "\n",
    "    # 4. Scale features using MinMaxScaler\n",
    "    scaler = MinMaxScaler()\n",
    "    X_sup_scaled = scaler.fit_transform(X_sup) #scaler.transform(X_sup)  # Use same scaler for consistency\n",
    "    X_ae_scaled = scaler.transform(X_ae)\n",
    "\n",
    "    # 5. Optional: PCA\n",
    "    if apply_pca:\n",
    "        pca = PCA(n_components=pca_variance)\n",
    "        X_sup_pca = pca.fit_transform(X_sup_scaled)   # ✅ Fit PCA on X_sup\n",
    "        X_ae_scaled = pca.transform(X_ae_scaled)      # ✅ Transform AE using same PCA\n",
    "    else:\n",
    "        X_sup_pca = X_sup_scaled\n",
    "\n",
    "    # 6. Train-test split (for supervised models)\n",
    "    X_train, X_test, y_train, y_test = train_test_split(\n",
    "        X_sup_pca, y_sup, test_size=0.3, stratify=y_sup, random_state=42\n",
    "    )\n",
    "\n",
    "    # 7. Return everything\n",
    "    return {\n",
    "        'X_ae_scaled': X_ae_scaled,   # For AE training\n",
    "        'X_train': X_train,\n",
    "        'X_test': X_test,\n",
    "        'y_train': y_train,\n",
    "        'y_test': y_test,\n",
    "        'scaler': scaler,\n",
    "        'pca': pca if apply_pca else None\n",
    "    }\n"
   ]
  },
  {
   "cell_type": "code",
   "execution_count": 418,
   "metadata": {},
   "outputs": [],
   "source": [
    "# Load your dataset\n",
    "import pandas as pd\n",
    "\n",
    "# Preprocess it\n",
    "preprocessed = preprocess_creditcard_data(data, outlier_removal=True, apply_pca=True, pca_variance=0.99)\n",
    "\n",
    "# Access the outputs\n",
    "X_ae_scaled = preprocessed['X_ae_scaled']      # Use for Autoencoder\n",
    "X_train = preprocessed['X_train']              # Use for RF, XGB\n",
    "X_test = preprocessed['X_test']\n",
    "y_train = preprocessed['y_train']\n",
    "y_test = preprocessed['y_test']"
   ]
  },
  {
   "cell_type": "code",
   "execution_count": 419,
   "metadata": {},
   "outputs": [
    {
     "name": "stderr",
     "output_type": "stream",
     "text": [
      "/opt/anaconda3/lib/python3.12/site-packages/sklearn/base.py:474: FutureWarning: `BaseEstimator._validate_data` is deprecated in 1.6 and will be removed in 1.7. Use `sklearn.utils.validation.validate_data` instead. This function becomes public and is part of the scikit-learn developer API.\n",
      "  warnings.warn(\n",
      "/opt/anaconda3/lib/python3.12/site-packages/sklearn/base.py:474: FutureWarning: `BaseEstimator._validate_data` is deprecated in 1.6 and will be removed in 1.7. Use `sklearn.utils.validation.validate_data` instead. This function becomes public and is part of the scikit-learn developer API.\n",
      "  warnings.warn(\n"
     ]
    }
   ],
   "source": [
    "from imblearn.over_sampling import BorderlineSMOTE\n",
    "\n",
    "# Replace SMOTE with BorderlineSMOTE\n",
    "blsm = BorderlineSMOTE(random_state=42, sampling_strategy=0.3, k_neighbors=3)\n",
    "X_train_blsm, y_train_blsm = blsm.fit_resample(X_train, y_train)\n",
    "\n",
    "\n",
    "from imblearn.over_sampling import SMOTE\n",
    "sm = SMOTE(random_state=42, sampling_strategy=0.3, k_neighbors=3)\n",
    "X_train_sm, y_train_sm = sm.fit_resample(X_train, y_train)\n"
   ]
  },
  {
   "cell_type": "code",
   "execution_count": 420,
   "metadata": {
    "executionInfo": {
     "elapsed": 1396,
     "status": "ok",
     "timestamp": 1739007166352,
     "user": {
      "displayName": "Mohammad Shanaa",
      "userId": "06611199972742748940"
     },
     "user_tz": -240
    },
    "id": "WsoVTYUyG02p"
   },
   "outputs": [
    {
     "name": "stdout",
     "output_type": "stream",
     "text": [
      "Confusion Matrix (XGBoost):\n",
      "[[75744     7]\n",
      " [    9   111]]\n",
      "Classification Report (XGBoost):\n",
      "              precision    recall  f1-score   support\n",
      "\n",
      "           0     0.9999    0.9999    0.9999     75751\n",
      "           1     0.9407    0.9250    0.9328       120\n",
      "\n",
      "    accuracy                         0.9998     75871\n",
      "   macro avg     0.9703    0.9625    0.9663     75871\n",
      "weighted avg     0.9998    0.9998    0.9998     75871\n",
      "\n"
     ]
    }
   ],
   "source": [
    "\n",
    "xgb_model = xgb.XGBClassifier(\n",
    "    objective='binary:logistic',\n",
    "    n_estimators=300,   #300     # Increase number of trees for better learning\n",
    "    learning_rate=0.5,   #0.5   # Reduce learning rate for better convergence\n",
    "    scale_pos_weight=2,     # Adjust imbalance between fraud & normal cases\n",
    "    colsample_bytree= 0.8,\n",
    "    eval_metric='logloss',\n",
    "    random_state=42\n",
    ")\n",
    "\n",
    "xgb_model.fit(X_train_blsm, y_train_blsm)\n",
    "\n",
    "xgb_scores = xgb_model.predict_proba(X_test)[:, 1]  # Get probability for class 1 (anomaly)\n",
    "\n",
    "# Set threshold for XGBoost scores (adjust as needed based on precision-recall balance)\n",
    "xgb_threshold = 0.874 \n",
    "xgb_predictions = [1 if score > xgb_threshold else 0 for score in xgb_scores]\n",
    "\n",
    "cm_xgb = confusion_matrix(y_test, xgb_predictions)\n",
    "\n",
    "\n",
    "print(\"Confusion Matrix (XGBoost):\")\n",
    "print(cm_xgb)\n",
    "print(\"Classification Report (XGBoost):\")\n",
    "print(classification_report(y_test, xgb_predictions, digits=4))"
   ]
  },
  {
   "cell_type": "code",
   "execution_count": 421,
   "metadata": {},
   "outputs": [
    {
     "data": {
      "image/png": "[encoded data removed]",
      "text/plain": [
       "<Figure size 600x400 with 2 Axes>"
      ]
     },
     "metadata": {},
     "output_type": "display_data"
    }
   ],
   "source": [
    "plt.figure(figsize=(6,4))\n",
    "sns.heatmap(cm_xgb, annot=True, fmt='d', cmap='Blues', xticklabels=['Normal', 'Fraud'], yticklabels=['Normal', 'Fraud'])\n",
    "plt.xlabel('Predicted')\n",
    "plt.ylabel('Actual')\n",
    "plt.title('XGBoost Confusion Matrix')\n",
    "plt.show()"
   ]
  },
  {
   "cell_type": "code",
   "execution_count": 422,
   "metadata": {},
   "outputs": [
    {
     "data": {
      "image/png": "[encoded data removed]",
      "text/plain": [
       "<Figure size 700x500 with 1 Axes>"
      ]
     },
     "metadata": {},
     "output_type": "display_data"
    },
    {
     "name": "stdout",
     "output_type": "stream",
     "text": [
      "🔵 Best Threshold for Precision-Recall Balance: 0.9207\n"
     ]
    }
   ],
   "source": [
    "import numpy as np\n",
    "import matplotlib.pyplot as plt\n",
    "from sklearn.metrics import precision_recall_curve\n",
    "\n",
    "\n",
    "# Compute Precision-Recall values\n",
    "precision, recall, thresholds = precision_recall_curve(y_test, xgb_scores)\n",
    "\n",
    "# Compute F1-scores for each threshold\n",
    "xgb_f1_scores = (2 * precision * recall) / (precision + recall + 1e-10)  # Avoid division by zero\n",
    "xgb_optimal_idx = np.argmax(xgb_f1_scores)  # Find best threshold index\n",
    "xgb_optimal_threshold = thresholds[xgb_optimal_idx]\n",
    "\n",
    "# Plot Precision-Recall Curve\n",
    "plt.figure(figsize=(7, 5))\n",
    "plt.plot(recall, precision, color='blue', label=f'PR curve (AUC = {np.trapz(precision, recall):.4f})')\n",
    "plt.scatter(recall[xgb_optimal_idx], precision[xgb_optimal_idx], color='red', marker='o', label=f'Best Threshold: {xgb_optimal_threshold:.4f}')\n",
    "plt.xlabel('Recall (Sensitivity)')\n",
    "plt.ylabel('Precision (Positive Predictive Value)')\n",
    "plt.title('Precision-Recall Curve')\n",
    "plt.legend()\n",
    "plt.show()\n",
    "\n",
    "print(f\"🔵 Best Threshold for Precision-Recall Balance: {xgb_optimal_threshold:.4f}\")"
   ]
  },
  {
   "cell_type": "code",
   "execution_count": 423,
   "metadata": {
    "colab": {
     "base_uri": "https://localhost:8080/"
    },
    "executionInfo": {
     "elapsed": 149370,
     "status": "ok",
     "timestamp": 1739007315721,
     "user": {
      "displayName": "Mohammad Shanaa",
      "userId": "06611199972742748940"
     },
     "user_tz": -240
    },
    "id": "iwYJnMwAKUmQ",
    "outputId": "6247623f-2d9c-4820-ed46-f5fbb7afda0c"
   },
   "outputs": [
    {
     "name": "stdout",
     "output_type": "stream",
     "text": [
      "Random Forest Classification Report:\n",
      "              precision    recall  f1-score   support\n",
      "\n",
      "           0     0.9998    0.9999    0.9999     75751\n",
      "           1     0.9459    0.8750    0.9091       120\n",
      "\n",
      "    accuracy                         0.9997     75871\n",
      "   macro avg     0.9729    0.9375    0.9545     75871\n",
      "weighted avg     0.9997    0.9997    0.9997     75871\n",
      "\n",
      "Random Forest Accuracy: 1.00\n"
     ]
    }
   ],
   "source": [
    "# Initialize and train Random Forest model\n",
    "rf_model = RandomForestClassifier(\n",
    "    n_estimators=300,        # More trees for stability\n",
    "    class_weight=\"balanced\", # Handles fraud (rare class) better\n",
    "    random_state=42,\n",
    "    bootstrap=False,         # Uses full dataset per tree\n",
    "    n_jobs=-1                # Use all CPU cores for faster training\n",
    ")\n",
    "\n",
    "\n",
    "rf_model.fit(X_train_blsm, y_train_blsm)\n",
    "\n",
    "# Predict anomalies on the test set\n",
    "rf_predictions = rf_model.predict(X_test)\n",
    "\n",
    "# Evaluate model performance\n",
    "print(\"Random Forest Classification Report:\")\n",
    "print(classification_report(y_test, rf_predictions, digits=4))\n",
    "\n",
    "rf_accuracy = accuracy_score(y_test, rf_predictions)\n",
    "print(f\"Random Forest Accuracy: {rf_accuracy:.2f}\")\n"
   ]
  },
  {
   "cell_type": "code",
   "execution_count": 424,
   "metadata": {},
   "outputs": [
    {
     "name": "stdout",
     "output_type": "stream",
     "text": [
      "Best XGBoost Threshold (F1): 0.86 F1: 0.9327731092436975\n",
      "Best RF Threshold (F1): 0.46 F1: 0.9137931034482759\n"
     ]
    }
   ],
   "source": [
    "from sklearn.metrics import f1_score, matthews_corrcoef, precision_recall_curve\n",
    "import numpy as np\n",
    "\n",
    "# Get predicted probabilities\n",
    "xgb_probs = xgb_model.predict_proba(X_test)[:, 1]  # Probabilities for class 1\n",
    "rf_probs = rf_model.predict_proba(X_test)[:, 1]\n",
    "\n",
    "# Function to find best threshold for F1 or MCC\n",
    "def find_best_threshold(y_true, y_scores, metric='f1'):\n",
    "    thresholds = np.linspace(0.01, 0.99, 99)\n",
    "    best_score = 0\n",
    "    best_threshold = 0.5\n",
    "\n",
    "    for t in thresholds:\n",
    "        preds = (y_scores >= t).astype(int)\n",
    "        score = f1_score(y_true, preds) if metric == 'f1' else matthews_corrcoef(y_true, preds)\n",
    "        if score > best_score:\n",
    "            best_score = score\n",
    "            best_threshold = t\n",
    "\n",
    "    return best_threshold, best_score\n",
    "\n",
    "# Find best thresholds\n",
    "xgb_best_thresh, xgb_best_f1 = find_best_threshold(y_test, xgb_probs, metric='f1')\n",
    "rf_best_thresh, rf_best_f1 = find_best_threshold(y_test, rf_probs, metric='f1')\n",
    "\n",
    "print(\"Best XGBoost Threshold (F1):\", xgb_best_thresh, \"F1:\", xgb_best_f1)\n",
    "print(\"Best RF Threshold (F1):\", rf_best_thresh, \"F1:\", rf_best_f1)"
   ]
  },
  {
   "cell_type": "code",
   "execution_count": 425,
   "metadata": {
    "colab": {
     "base_uri": "https://localhost:8080/"
    },
    "collapsed": true,
    "executionInfo": {
     "elapsed": 154874,
     "status": "ok",
     "timestamp": 1739007472288,
     "user": {
      "displayName": "Mohammad Shanaa",
      "userId": "06611199972742748940"
     },
     "user_tz": -240
    },
    "id": "9QXo7vBAeJoG",
    "outputId": "39459359-4fa1-4847-de75-dd4b27ae681f"
   },
   "outputs": [
    {
     "name": "stdout",
     "output_type": "stream",
     "text": [
      "Epoch 1/50\n",
      "\u001b[1m7108/7108\u001b[0m \u001b[32m━━━━━━━━━━━━━━━━━━━━\u001b[0m\u001b[37m\u001b[0m \u001b[1m7s\u001b[0m 902us/step - loss: 0.3130 - val_loss: 0.1611\n",
      "Epoch 2/50\n",
      "\u001b[1m7108/7108\u001b[0m \u001b[32m━━━━━━━━━━━━━━━━━━━━\u001b[0m\u001b[37m\u001b[0m \u001b[1m6s\u001b[0m 877us/step - loss: 0.1405 - val_loss: 0.1012\n",
      "Epoch 3/50\n",
      "\u001b[1m7108/7108\u001b[0m \u001b[32m━━━━━━━━━━━━━━━━━━━━\u001b[0m\u001b[37m\u001b[0m \u001b[1m6s\u001b[0m 862us/step - loss: 0.1075 - val_loss: 0.0852\n",
      "Epoch 4/50\n",
      "\u001b[1m7108/7108\u001b[0m \u001b[32m━━━━━━━━━━━━━━━━━━━━\u001b[0m\u001b[37m\u001b[0m \u001b[1m6s\u001b[0m 873us/step - loss: 0.0836 - val_loss: 0.0791\n",
      "Epoch 5/50\n",
      "\u001b[1m7108/7108\u001b[0m \u001b[32m━━━━━━━━━━━━━━━━━━━━\u001b[0m\u001b[37m\u001b[0m \u001b[1m6s\u001b[0m 862us/step - loss: 0.0797 - val_loss: 0.0762\n",
      "Epoch 6/50\n",
      "\u001b[1m7108/7108\u001b[0m \u001b[32m━━━━━━━━━━━━━━━━━━━━\u001b[0m\u001b[37m\u001b[0m \u001b[1m6s\u001b[0m 854us/step - loss: 0.0743 - val_loss: 0.0743\n",
      "Epoch 7/50\n",
      "\u001b[1m7108/7108\u001b[0m \u001b[32m━━━━━━━━━━━━━━━━━━━━\u001b[0m\u001b[37m\u001b[0m \u001b[1m6s\u001b[0m 864us/step - loss: 0.0748 - val_loss: 0.0732\n",
      "Epoch 8/50\n",
      "\u001b[1m7108/7108\u001b[0m \u001b[32m━━━━━━━━━━━━━━━━━━━━\u001b[0m\u001b[37m\u001b[0m \u001b[1m6s\u001b[0m 862us/step - loss: 0.0731 - val_loss: 0.0723\n",
      "Epoch 9/50\n",
      "\u001b[1m7108/7108\u001b[0m \u001b[32m━━━━━━━━━━━━━━━━━━━━\u001b[0m\u001b[37m\u001b[0m \u001b[1m6s\u001b[0m 867us/step - loss: 0.0751 - val_loss: 0.0718\n",
      "Epoch 10/50\n",
      "\u001b[1m7108/7108\u001b[0m \u001b[32m━━━━━━━━━━━━━━━━━━━━\u001b[0m\u001b[37m\u001b[0m \u001b[1m6s\u001b[0m 856us/step - loss: 0.0711 - val_loss: 0.0720\n",
      "Epoch 11/50\n",
      "\u001b[1m7108/7108\u001b[0m \u001b[32m━━━━━━━━━━━━━━━━━━━━\u001b[0m\u001b[37m\u001b[0m \u001b[1m6s\u001b[0m 841us/step - loss: 0.0838 - val_loss: 0.0712\n",
      "Epoch 12/50\n",
      "\u001b[1m7108/7108\u001b[0m \u001b[32m━━━━━━━━━━━━━━━━━━━━\u001b[0m\u001b[37m\u001b[0m \u001b[1m6s\u001b[0m 867us/step - loss: 0.0819 - val_loss: 0.0709\n",
      "Epoch 13/50\n",
      "\u001b[1m7108/7108\u001b[0m \u001b[32m━━━━━━━━━━━━━━━━━━━━\u001b[0m\u001b[37m\u001b[0m \u001b[1m6s\u001b[0m 874us/step - loss: 0.0710 - val_loss: 0.0708\n",
      "Epoch 14/50\n",
      "\u001b[1m7108/7108\u001b[0m \u001b[32m━━━━━━━━━━━━━━━━━━━━\u001b[0m\u001b[37m\u001b[0m \u001b[1m6s\u001b[0m 867us/step - loss: 0.0710 - val_loss: 0.0705\n",
      "Epoch 15/50\n",
      "\u001b[1m7108/7108\u001b[0m \u001b[32m━━━━━━━━━━━━━━━━━━━━\u001b[0m\u001b[37m\u001b[0m \u001b[1m6s\u001b[0m 859us/step - loss: 0.0758 - val_loss: 0.0703\n",
      "Epoch 16/50\n",
      "\u001b[1m7108/7108\u001b[0m \u001b[32m━━━━━━━━━━━━━━━━━━━━\u001b[0m\u001b[37m\u001b[0m \u001b[1m6s\u001b[0m 849us/step - loss: 0.0674 - val_loss: 0.0703\n",
      "Epoch 17/50\n",
      "\u001b[1m7108/7108\u001b[0m \u001b[32m━━━━━━━━━━━━━━━━━━━━\u001b[0m\u001b[37m\u001b[0m \u001b[1m6s\u001b[0m 873us/step - loss: 0.0756 - val_loss: 0.0700\n",
      "Epoch 18/50\n",
      "\u001b[1m7108/7108\u001b[0m \u001b[32m━━━━━━━━━━━━━━━━━━━━\u001b[0m\u001b[37m\u001b[0m \u001b[1m6s\u001b[0m 854us/step - loss: 0.0711 - val_loss: 0.0700\n",
      "Epoch 19/50\n",
      "\u001b[1m7108/7108\u001b[0m \u001b[32m━━━━━━━━━━━━━━━━━━━━\u001b[0m\u001b[37m\u001b[0m \u001b[1m6s\u001b[0m 878us/step - loss: 0.0677 - val_loss: 0.0699\n",
      "Epoch 20/50\n",
      "\u001b[1m7108/7108\u001b[0m \u001b[32m━━━━━━━━━━━━━━━━━━━━\u001b[0m\u001b[37m\u001b[0m \u001b[1m6s\u001b[0m 854us/step - loss: 0.0797 - val_loss: 0.0697\n",
      "Epoch 21/50\n",
      "\u001b[1m7108/7108\u001b[0m \u001b[32m━━━━━━━━━━━━━━━━━━━━\u001b[0m\u001b[37m\u001b[0m \u001b[1m6s\u001b[0m 842us/step - loss: 0.0716 - val_loss: 0.0698\n",
      "Epoch 22/50\n",
      "\u001b[1m7108/7108\u001b[0m \u001b[32m━━━━━━━━━━━━━━━━━━━━\u001b[0m\u001b[37m\u001b[0m \u001b[1m6s\u001b[0m 856us/step - loss: 0.0721 - val_loss: 0.0696\n",
      "Epoch 23/50\n",
      "\u001b[1m7108/7108\u001b[0m \u001b[32m━━━━━━━━━━━━━━━━━━━━\u001b[0m\u001b[37m\u001b[0m \u001b[1m6s\u001b[0m 906us/step - loss: 0.0719 - val_loss: 0.0695\n",
      "Epoch 24/50\n",
      "\u001b[1m7108/7108\u001b[0m \u001b[32m━━━━━━━━━━━━━━━━━━━━\u001b[0m\u001b[37m\u001b[0m \u001b[1m6s\u001b[0m 846us/step - loss: 0.0657 - val_loss: 0.0696\n",
      "Epoch 25/50\n",
      "\u001b[1m7108/7108\u001b[0m \u001b[32m━━━━━━━━━━━━━━━━━━━━\u001b[0m\u001b[37m\u001b[0m \u001b[1m6s\u001b[0m 838us/step - loss: 0.0697 - val_loss: 0.0695\n",
      "Epoch 26/50\n",
      "\u001b[1m7108/7108\u001b[0m \u001b[32m━━━━━━━━━━━━━━━━━━━━\u001b[0m\u001b[37m\u001b[0m \u001b[1m6s\u001b[0m 835us/step - loss: 0.0772 - val_loss: 0.0694\n",
      "Epoch 27/50\n",
      "\u001b[1m7108/7108\u001b[0m \u001b[32m━━━━━━━━━━━━━━━━━━━━\u001b[0m\u001b[37m\u001b[0m \u001b[1m6s\u001b[0m 851us/step - loss: 0.0678 - val_loss: 0.0694\n",
      "Epoch 28/50\n",
      "\u001b[1m7108/7108\u001b[0m \u001b[32m━━━━━━━━━━━━━━━━━━━━\u001b[0m\u001b[37m\u001b[0m \u001b[1m6s\u001b[0m 835us/step - loss: 0.0749 - val_loss: 0.0693\n",
      "Epoch 29/50\n",
      "\u001b[1m7108/7108\u001b[0m \u001b[32m━━━━━━━━━━━━━━━━━━━━\u001b[0m\u001b[37m\u001b[0m \u001b[1m6s\u001b[0m 831us/step - loss: 0.0700 - val_loss: 0.0693\n",
      "Epoch 30/50\n",
      "\u001b[1m7108/7108\u001b[0m \u001b[32m━━━━━━━━━━━━━━━━━━━━\u001b[0m\u001b[37m\u001b[0m \u001b[1m6s\u001b[0m 831us/step - loss: 0.0750 - val_loss: 0.0694\n",
      "Epoch 31/50\n",
      "\u001b[1m7108/7108\u001b[0m \u001b[32m━━━━━━━━━━━━━━━━━━━━\u001b[0m\u001b[37m\u001b[0m \u001b[1m6s\u001b[0m 832us/step - loss: 0.0699 - val_loss: 0.0692\n",
      "Epoch 32/50\n",
      "\u001b[1m7108/7108\u001b[0m \u001b[32m━━━━━━━━━━━━━━━━━━━━\u001b[0m\u001b[37m\u001b[0m \u001b[1m6s\u001b[0m 836us/step - loss: 0.0653 - val_loss: 0.0693\n",
      "Epoch 33/50\n",
      "\u001b[1m7108/7108\u001b[0m \u001b[32m━━━━━━━━━━━━━━━━━━━━\u001b[0m\u001b[37m\u001b[0m \u001b[1m6s\u001b[0m 861us/step - loss: 0.0678 - val_loss: 0.0692\n",
      "Epoch 34/50\n",
      "\u001b[1m7108/7108\u001b[0m \u001b[32m━━━━━━━━━━━━━━━━━━━━\u001b[0m\u001b[37m\u001b[0m \u001b[1m6s\u001b[0m 908us/step - loss: 0.0723 - val_loss: 0.0692\n",
      "Epoch 35/50\n",
      "\u001b[1m7108/7108\u001b[0m \u001b[32m━━━━━━━━━━━━━━━━━━━━\u001b[0m\u001b[37m\u001b[0m \u001b[1m6s\u001b[0m 876us/step - loss: 0.0643 - val_loss: 0.0692\n",
      "Epoch 36/50\n",
      "\u001b[1m7108/7108\u001b[0m \u001b[32m━━━━━━━━━━━━━━━━━━━━\u001b[0m\u001b[37m\u001b[0m \u001b[1m6s\u001b[0m 884us/step - loss: 0.0677 - val_loss: 0.0693\n",
      "Epoch 37/50\n",
      "\u001b[1m7108/7108\u001b[0m \u001b[32m━━━━━━━━━━━━━━━━━━━━\u001b[0m\u001b[37m\u001b[0m \u001b[1m6s\u001b[0m 904us/step - loss: 0.0759 - val_loss: 0.0691\n",
      "Epoch 38/50\n",
      "\u001b[1m7108/7108\u001b[0m \u001b[32m━━━━━━━━━━━━━━━━━━━━\u001b[0m\u001b[37m\u001b[0m \u001b[1m6s\u001b[0m 837us/step - loss: 0.0729 - val_loss: 0.0691\n",
      "Epoch 39/50\n",
      "\u001b[1m7108/7108\u001b[0m \u001b[32m━━━━━━━━━━━━━━━━━━━━\u001b[0m\u001b[37m\u001b[0m \u001b[1m6s\u001b[0m 839us/step - loss: 0.0737 - val_loss: 0.0691\n",
      "Epoch 40/50\n",
      "\u001b[1m7108/7108\u001b[0m \u001b[32m━━━━━━━━━━━━━━━━━━━━\u001b[0m\u001b[37m\u001b[0m \u001b[1m6s\u001b[0m 837us/step - loss: 0.0680 - val_loss: 0.0690\n",
      "Epoch 41/50\n",
      "\u001b[1m7108/7108\u001b[0m \u001b[32m━━━━━━━━━━━━━━━━━━━━\u001b[0m\u001b[37m\u001b[0m \u001b[1m6s\u001b[0m 850us/step - loss: 0.0683 - val_loss: 0.0691\n",
      "Epoch 42/50\n",
      "\u001b[1m7108/7108\u001b[0m \u001b[32m━━━━━━━━━━━━━━━━━━━━\u001b[0m\u001b[37m\u001b[0m \u001b[1m6s\u001b[0m 836us/step - loss: 0.0702 - val_loss: 0.0690\n",
      "Epoch 43/50\n",
      "\u001b[1m7108/7108\u001b[0m \u001b[32m━━━━━━━━━━━━━━━━━━━━\u001b[0m\u001b[37m\u001b[0m \u001b[1m6s\u001b[0m 842us/step - loss: 0.0673 - val_loss: 0.0690\n",
      "Epoch 44/50\n",
      "\u001b[1m7108/7108\u001b[0m \u001b[32m━━━━━━━━━━━━━━━━━━━━\u001b[0m\u001b[37m\u001b[0m \u001b[1m6s\u001b[0m 836us/step - loss: 0.0739 - val_loss: 0.0690\n",
      "Epoch 45/50\n",
      "\u001b[1m7108/7108\u001b[0m \u001b[32m━━━━━━━━━━━━━━━━━━━━\u001b[0m\u001b[37m\u001b[0m \u001b[1m6s\u001b[0m 835us/step - loss: 0.0725 - val_loss: 0.0689\n",
      "Epoch 46/50\n",
      "\u001b[1m7108/7108\u001b[0m \u001b[32m━━━━━━━━━━━━━━━━━━━━\u001b[0m\u001b[37m\u001b[0m \u001b[1m6s\u001b[0m 833us/step - loss: 0.0694 - val_loss: 0.0690\n",
      "Epoch 47/50\n",
      "\u001b[1m7108/7108\u001b[0m \u001b[32m━━━━━━━━━━━━━━━━━━━━\u001b[0m\u001b[37m\u001b[0m \u001b[1m6s\u001b[0m 836us/step - loss: 0.0697 - val_loss: 0.0689\n",
      "Epoch 48/50\n",
      "\u001b[1m7108/7108\u001b[0m \u001b[32m━━━━━━━━━━━━━━━━━━━━\u001b[0m\u001b[37m\u001b[0m \u001b[1m6s\u001b[0m 838us/step - loss: 0.0702 - val_loss: 0.0689\n",
      "Epoch 49/50\n",
      "\u001b[1m7108/7108\u001b[0m \u001b[32m━━━━━━━━━━━━━━━━━━━━\u001b[0m\u001b[37m\u001b[0m \u001b[1m6s\u001b[0m 845us/step - loss: 0.0705 - val_loss: 0.0689\n",
      "Epoch 50/50\n",
      "\u001b[1m7108/7108\u001b[0m \u001b[32m━━━━━━━━━━━━━━━━━━━━\u001b[0m\u001b[37m\u001b[0m \u001b[1m6s\u001b[0m 838us/step - loss: 0.0642 - val_loss: 0.0689\n"
     ]
    }
   ],
   "source": [
    "## Autoencoder architecture\n",
    "\n",
    "input_layer = layers.Input(shape=(X_ae_scaled.shape[1],))\n",
    "encoded = layers.Dense(256, activation='relu')(input_layer) \n",
    "encoded = layers.BatchNormalization()(encoded)\n",
    "encoded = layers.Dense(128, activation='relu')(encoded) \n",
    "encoded = layers.BatchNormalization()(encoded)\n",
    "\n",
    "encoded = layers.Dense(128, activation='relu')(encoded) \n",
    "\n",
    "encoded = layers.Dropout(0.2)(encoded)  # Prevent overfitting to normal transactions\n",
    "\n",
    "decoded = layers.Dense(128, activation='relu')(encoded) \n",
    "decoded = layers.BatchNormalization()(decoded)\n",
    "decoded = layers.Dense(256, activation='relu')(decoded) \n",
    "\n",
    "output_layer = layers.Dense(X_ae_scaled.shape[1], activation='sigmoid')(decoded)\n",
    "autoencoder = Model(input_layer, output_layer)\n",
    "\n",
    "autoencoder.compile(optimizer='adadelta', loss='mse')\n",
    "\n",
    "#-------------\n",
    "\n",
    "# Train the autoencoder on normal transactions only\n",
    "X_train_normal = X_ae_scaled\n",
    "\n",
    "history = autoencoder.fit(X_train_normal, X_train_normal, epochs=50, batch_size=32, shuffle=True, validation_split=0.2) \n",
    "\n"
   ]
  },
  {
   "cell_type": "code",
   "execution_count": 426,
   "metadata": {},
   "outputs": [
    {
     "name": "stdout",
     "output_type": "stream",
     "text": [
      "\u001b[1m2371/2371\u001b[0m \u001b[32m━━━━━━━━━━━━━━━━━━━━\u001b[0m\u001b[37m\u001b[0m \u001b[1m1s\u001b[0m 257us/step\n",
      "Best Autoencoder Threshold (F1): 0.13295542451361206 F1: 0.5798319327731093\n",
      "Confusion Matrix (Autoencoder):\n",
      "[[75702    49]\n",
      " [   51    69]]\n",
      "Classification Report (Autoencoder):\n",
      "              precision    recall  f1-score   support\n",
      "\n",
      "           0     0.9993    0.9994    0.9993     75751\n",
      "           1     0.5847    0.5750    0.5798       120\n",
      "\n",
      "    accuracy                         0.9987     75871\n",
      "   macro avg     0.7920    0.7872    0.7896     75871\n",
      "weighted avg     0.9987    0.9987    0.9987     75871\n",
      "\n"
     ]
    }
   ],
   "source": [
    "# Predict on the actual test set\n",
    "X_test_pred = autoencoder.predict(X_test)\n",
    "\n",
    "# Calculate reconstruction error for each sample\n",
    "reconstruction_error = np.mean(np.abs(X_test - X_test_pred), axis=1)\n",
    "\n",
    "# Function to find best threshold based on F1 or MCC\n",
    "from sklearn.metrics import f1_score, matthews_corrcoef\n",
    "\n",
    "def find_best_threshold(y_true, errors, metric='f1'):\n",
    "    best_thresh = 0\n",
    "    best_score = 0\n",
    "    for t in np.linspace(min(errors), max(errors), 100):\n",
    "        preds = [1 if e > t else 0 for e in errors]\n",
    "        score = f1_score(y_true, preds) if metric == 'f1' else matthews_corrcoef(y_true, preds)\n",
    "        if score > best_score:\n",
    "            best_score = score\n",
    "            best_thresh = t\n",
    "    return best_thresh, best_score\n",
    "\n",
    "# Find the best threshold using F1\n",
    "ae_best_thresh, ae_best_f1 = find_best_threshold(y_test, reconstruction_error, metric='f1')\n",
    "print(\"Best Autoencoder Threshold (F1):\", ae_best_thresh, \"F1:\", ae_best_f1)\n",
    "\n",
    "# Final predictions\n",
    "final_AE_predictions = [1 if error > ae_best_thresh else 0 for error in reconstruction_error]\n",
    "\n",
    "# Evaluation\n",
    "from sklearn.metrics import confusion_matrix, classification_report\n",
    "\n",
    "print(\"Confusion Matrix (Autoencoder):\")\n",
    "print(confusion_matrix(y_test, final_AE_predictions))\n",
    "\n",
    "print(\"Classification Report (Autoencoder):\")\n",
    "print(classification_report(y_test, final_AE_predictions, digits=4))\n"
   ]
  },
  {
   "cell_type": "code",
   "execution_count": 427,
   "metadata": {
    "colab": {
     "base_uri": "https://localhost:8080/",
     "height": 472
    },
    "executionInfo": {
     "elapsed": 1041,
     "status": "ok",
     "timestamp": 1739007473326,
     "user": {
      "displayName": "Mohammad Shanaa",
      "userId": "06611199972742748940"
     },
     "user_tz": -240
    },
    "id": "4kuy9Ue40vwZ",
    "outputId": "ae7c975c-3e8d-4d60-bfc7-33e9609df0c3"
   },
   "outputs": [
    {
     "data": {
      "image/png": "[encoded data removed]",
      "text/plain": [
       "<Figure size 640x480 with 1 Axes>"
      ]
     },
     "metadata": {},
     "output_type": "display_data"
    }
   ],
   "source": [
    "\n",
    "plt.plot(history.history['loss'], label='Training Loss')\n",
    "plt.plot(history.history['val_loss'], label='Validation Loss')\n",
    "plt.title('Loss Curves')\n",
    "plt.xlabel('Epochs')\n",
    "plt.ylabel('Loss')\n",
    "plt.legend()\n",
    "plt.show()"
   ]
  },
  {
   "cell_type": "code",
   "execution_count": 428,
   "metadata": {
    "colab": {
     "base_uri": "https://localhost:8080/",
     "height": 489
    },
    "executionInfo": {
     "elapsed": 7672,
     "status": "ok",
     "timestamp": 1739007480995,
     "user": {
      "displayName": "Mohammad Shanaa",
      "userId": "06611199972742748940"
     },
     "user_tz": -240
    },
    "id": "xtBNi9lh1-ND",
    "outputId": "fd3a3d10-bba8-429f-9f5d-6174e04d73cc"
   },
   "outputs": [
    {
     "name": "stdout",
     "output_type": "stream",
     "text": [
      "\u001b[1m2371/2371\u001b[0m \u001b[32m━━━━━━━━━━━━━━━━━━━━\u001b[0m\u001b[37m\u001b[0m \u001b[1m1s\u001b[0m 256us/step\n"
     ]
    },
    {
     "data": {
      "image/png": "[encoded data removed]",
      "text/plain": [
       "<Figure size 640x480 with 1 Axes>"
      ]
     },
     "metadata": {},
     "output_type": "display_data"
    }
   ],
   "source": [
    "\n",
    "X_test_pred = autoencoder.predict(X_test)\n",
    "reconstruction_error = np.mean(np.abs(X_test_pred - X_test), axis=1)\n",
    "\n",
    "# Step 11: Visualize Reconstruction Errors\n",
    "plt.hist(reconstruction_error, bins=50, alpha=0.75)\n",
    "plt.title('Reconstruction Error Distribution')\n",
    "plt.xlabel('Reconstruction Error')\n",
    "plt.ylabel('Frequency')\n",
    "plt.show()\n",
    "\n"
   ]
  },
  {
   "cell_type": "code",
   "execution_count": 429,
   "metadata": {},
   "outputs": [
    {
     "name": "stdout",
     "output_type": "stream",
     "text": [
      "Best Autoencoder Threshold (F1): 0.13295542451361206 F1: 0.5798319327731093\n"
     ]
    }
   ],
   "source": [
    "from sklearn.metrics import f1_score, matthews_corrcoef\n",
    "\n",
    "ae_best_thresh, ae_best_f1 = find_best_threshold(y_test, reconstruction_error, metric='f1')\n",
    "\n",
    "print(\"Best Autoencoder Threshold (F1):\", ae_best_thresh, \"F1:\", ae_best_f1)\n"
   ]
  },
  {
   "cell_type": "code",
   "execution_count": 431,
   "metadata": {
    "collapsed": true,
    "executionInfo": {
     "elapsed": 5521,
     "status": "ok",
     "timestamp": 1739007486513,
     "user": {
      "displayName": "Mohammad Shanaa",
      "userId": "06611199972742748940"
     },
     "user_tz": -240
    },
    "id": "rNZ-MQQCysSq"
   },
   "outputs": [
    {
     "name": "stdout",
     "output_type": "stream",
     "text": [
      "Confusion Matrix (Isolation Forest):\n",
      "[[69918  5833]\n",
      " [    6   114]]\n",
      "Classification Report (Isolation Forest):\n",
      "              precision    recall  f1-score   support\n",
      "\n",
      "           0     0.9999    0.9230    0.9599     75751\n",
      "           1     0.0192    0.9500    0.0376       120\n",
      "\n",
      "    accuracy                         0.9230     75871\n",
      "   macro avg     0.5095    0.9365    0.4987     75871\n",
      "weighted avg     0.9984    0.9230    0.9585     75871\n",
      "\n",
      "Best IsolationForest Threshold (F1): 0.21513122518778727 F1: 0.4153846153846154\n"
     ]
    }
   ],
   "source": [
    "\n",
    "\n",
    "iso_forest = IsolationForest(contamination=0.5, n_estimators=100, random_state=42)\n",
    "iso_forest.fit(X_train)\n",
    "iso_forest_anomaly_scores = -iso_forest.decision_function(X_test)\n",
    "iso_forest_predictions = iso_forest.predict(X_test)\n",
    "iso_forest_predictions = [1 if pred == -1 else 0 for pred in iso_forest_predictions]\n",
    "iso_forest_threshold = 0.06  \n",
    "iso_forest_predictions = [1 if score > iso_forest_threshold else 0 for score in iso_forest_anomaly_scores]\n",
    "print(\"Confusion Matrix (Isolation Forest):\")\n",
    "print(confusion_matrix(y_test, iso_forest_predictions))\n",
    "print(\"Classification Report (Isolation Forest):\")\n",
    "print(classification_report(y_test, iso_forest_predictions, digits=4))\n",
    "\n",
    "\n",
    "iso_scores = -iso_forest.decision_function(X_test)\n",
    "iso_best_thresh, iso_best_f1 = find_best_threshold(y_test, iso_scores, metric='f1')\n",
    "\n",
    "print(\"Best IsolationForest Threshold (F1):\", iso_best_thresh, \"F1:\", iso_best_f1)\n",
    "\n"
   ]
  },
  {
   "cell_type": "code",
   "execution_count": 432,
   "metadata": {},
   "outputs": [
    {
     "name": "stdout",
     "output_type": "stream",
     "text": [
      "Best IsolationForest Threshold (F1): 0.21513122518778727 F1: 0.4153846153846154\n"
     ]
    }
   ],
   "source": [
    "iso_scores = -iso_forest.decision_function(X_test)\n",
    "iso_best_thresh, iso_best_f1 = find_best_threshold(y_test, iso_scores, metric='f1')\n",
    "print(\"Best IsolationForest Threshold (F1):\", iso_best_thresh, \"F1:\", iso_best_f1)\n"
   ]
  },
  {
   "cell_type": "code",
   "execution_count": 433,
   "metadata": {
    "colab": {
     "base_uri": "https://localhost:8080/"
    },
    "executionInfo": {
     "elapsed": 759,
     "status": "ok",
     "timestamp": 1739007738682,
     "user": {
      "displayName": "Mohammad Shanaa",
      "userId": "06611199972742748940"
     },
     "user_tz": -240
    },
    "id": "cVQ1If4dOvw9",
    "outputId": "6308dcf4-2c37-4b56-8657-d56402585644"
   },
   "outputs": [
    {
     "name": "stdout",
     "output_type": "stream",
     "text": [
      "Evaluation of Weighted Averaging of Anomaly Scores:\n",
      "[[75745     6]\n",
      " [    9   111]]\n",
      "              precision    recall  f1-score   support\n",
      "\n",
      "           0     0.9999    0.9999    0.9999     75751\n",
      "           1     0.9487    0.9250    0.9367       120\n",
      "\n",
      "    accuracy                         0.9998     75871\n",
      "   macro avg     0.9743    0.9625    0.9683     75871\n",
      "weighted avg     0.9998    0.9998    0.9998     75871\n",
      "\n",
      "TNR: 0.9999\n",
      "MCC: 0.9367\n"
     ]
    }
   ],
   "source": [
    "\n",
    "### Weighted Averaging of Anomaly Scores\n",
    "\n",
    "weights = {\n",
    "    'autoencoder': 0.18,       \n",
    "    'isolation_forest': 0.13,  \n",
    "    'xgboost': 0.52,  \n",
    "    'random_forest': 0.18 \n",
    "}\n",
    "\n",
    "\n",
    "weighted_scores = (weights['autoencoder'] * reconstruction_error) + \\\n",
    "                  (weights['isolation_forest'] * iso_forest_anomaly_scores) + \\\n",
    "                  (weights['xgboost'] * xgb_scores) + \\\n",
    "                  (weights['random_forest'] * rf_scores)\n",
    "\n",
    "\n",
    "weighted_threshold = np.percentile(weighted_scores, 99.848) \n",
    "\n",
    "# Apply the best threshold for final fraud predictions\n",
    "best_threshold = 0.56 \n",
    "final_predictions_weighted = (weighted_scores > best_threshold).astype(int)\n",
    "\n",
    "# Evaluate the weighted predictions\n",
    "print(\"Evaluation of Weighted Averaging of Anomaly Scores:\")\n",
    "print(confusion_matrix(y_test, final_predictions_weighted))\n",
    "print(classification_report(y_test, final_predictions_weighted, digits=4))\n",
    "\n",
    "\n",
    "from imblearn.metrics import specificity_score\n",
    "from sklearn.metrics import matthews_corrcoef\n",
    "\n",
    "tnr = specificity_score(y_test, final_predictions_weighted)\n",
    "print(f\"TNR: {tnr:.4f}\")\n",
    "\n",
    "mcc = matthews_corrcoef(y_test, final_predictions_weighted)\n",
    "print(f\"MCC: {mcc:.4f}\")"
   ]
  },
  {
   "cell_type": "code",
   "execution_count": 434,
   "metadata": {},
   "outputs": [],
   "source": [
    "from sklearn.metrics import (\n",
    "    confusion_matrix, classification_report,\n",
    "    matthews_corrcoef, precision_score, recall_score, f1_score\n",
    ")\n",
    "\n",
    "def evaluate_all_metrics(y_true, y_pred):\n",
    "    TN, FP, FN, TP = confusion_matrix(y_true, y_pred).ravel()\n",
    "    TPR = TP / (TP + FN) if (TP + FN) > 0 else 0\n",
    "    TNR = TN / (TN + FP) if (TN + FP) > 0 else 0\n",
    "    precision = precision_score(y_true, y_pred)\n",
    "    recall = recall_score(y_true, y_pred)\n",
    "    f1 = f1_score(y_true, y_pred)\n",
    "    mcc = matthews_corrcoef(y_true, y_pred)\n",
    "\n",
    "    print(\"Confusion Matrix:\")\n",
    "    print(f\"TN: {TN}, FP: {FP}, FN: {FN}, TP: {TP}\")\n",
    "    print()\n",
    "    print(\"Metrics:\")\n",
    "    print(f\"TPR (Recall):      {TPR:.4f}\")\n",
    "    print(f\"TNR (Specificity): {TNR:.4f}\")\n",
    "    print(f\"Precision:         {precision:.4f}\")\n",
    "    print(f\"F1-score:          {f1:.4f}\")\n",
    "    print(f\"MCC:               {mcc:.4f}\")\n"
   ]
  },
  {
   "cell_type": "code",
   "execution_count": 435,
   "metadata": {},
   "outputs": [
    {
     "name": "stdout",
     "output_type": "stream",
     "text": [
      "Confusion Matrix:\n",
      "TN: 75745, FP: 6, FN: 9, TP: 111\n",
      "\n",
      "Metrics:\n",
      "TPR (Recall):      0.9250\n",
      "TNR (Specificity): 0.9999\n",
      "Precision:         0.9487\n",
      "F1-score:          0.9367\n",
      "MCC:               0.9367\n"
     ]
    }
   ],
   "source": [
    "evaluate_all_metrics(y_test, final_predictions_weighted)\n"
   ]
  },
  {
   "cell_type": "code",
   "execution_count": 436,
   "metadata": {},
   "outputs": [],
   "source": [
    "from sklearn.metrics import f1_score\n",
    "from itertools import product\n",
    "import numpy as np\n",
    "\n",
    "\n",
    "ae = np.array(reconstruction_error)\n",
    "iso = np.array(iso_forest_anomaly_scores)\n",
    "xgb = np.array(xgb_scores)\n",
    "rf = np.array(rf_scores)\n",
    "\n",
    "\n",
    "best_score = 0\n",
    "best_weights = None\n",
    "best_threshold = 0.5  \n",
    "\n",
    "\n",
    "for w_ae, w_iso, w_xgb, w_rf in product(np.arange(0, 1.1, 0.2), repeat=4):\n",
    "    if abs(w_ae + w_iso + w_xgb + w_rf - 1.0) > 0.05:\n",
    "        continue  # skip if weights don't sum approximately to 1\n",
    "\n",
    "    weighted_scores = (\n",
    "        w_ae * ae +\n",
    "        w_iso * iso +\n",
    "        w_xgb * xgb +\n",
    "        w_rf * rf\n",
    "    )\n",
    "\n",
    "    # Try several thresholds for this weight combo\n",
    "    for threshold in np.linspace(0.1, 0.9, 9):\n",
    "        preds = (weighted_scores >= threshold).astype(int)\n",
    "        score = f1_score(y_test, preds)\n",
    "\n",
    "        if score > best_score:\n",
    "            best_score = score\n",
    "            best_weights = {\n",
    "                'autoencoder': w_ae,\n",
    "                'isolation_forest': w_iso,\n",
    "                'xgboost': w_xgb,\n",
    "                'random_forest': w_rf\n",
    "            }\n",
    "            best_threshold = threshold\n"
   ]
  },
  {
   "cell_type": "code",
   "execution_count": 437,
   "metadata": {},
   "outputs": [
    {
     "name": "stdout",
     "output_type": "stream",
     "text": [
      "[[75746     5]\n",
      " [    9   111]]\n",
      "              precision    recall  f1-score   support\n",
      "\n",
      "           0     0.9999    0.9999    0.9999     75751\n",
      "           1     0.9569    0.9250    0.9407       120\n",
      "\n",
      "    accuracy                         0.9998     75871\n",
      "   macro avg     0.9784    0.9625    0.9703     75871\n",
      "weighted avg     0.9998    0.9998    0.9998     75871\n",
      "\n"
     ]
    }
   ],
   "source": [
    "final_weighted_scores = (\n",
    "    best_weights['autoencoder'] * ae +\n",
    "    best_weights['isolation_forest'] * iso +\n",
    "    best_weights['xgboost'] * xgb +\n",
    "    best_weights['random_forest'] * rf\n",
    ")\n",
    "\n",
    "final_preds = (final_weighted_scores >= best_threshold).astype(int)\n",
    "\n",
    "from sklearn.metrics import classification_report, confusion_matrix\n",
    "print(confusion_matrix(y_test, final_preds))\n",
    "print(classification_report(y_test, final_preds, digits=4))\n"
   ]
  },
  {
   "cell_type": "code",
   "execution_count": 438,
   "metadata": {},
   "outputs": [],
   "source": [
    "from sklearn.metrics import (\n",
    "    confusion_matrix, classification_report,\n",
    "    matthews_corrcoef, precision_score, recall_score, f1_score\n",
    ")\n",
    "\n",
    "def evaluate_all_metrics(y_true, y_pred):\n",
    "    TN, FP, FN, TP = confusion_matrix(y_true, y_pred).ravel()\n",
    "    TPR = TP / (TP + FN) if (TP + FN) > 0 else 0\n",
    "    TNR = TN / (TN + FP) if (TN + FP) > 0 else 0\n",
    "    precision = precision_score(y_true, y_pred)\n",
    "    recall = recall_score(y_true, y_pred)\n",
    "    f1 = f1_score(y_true, y_pred)\n",
    "    mcc = matthews_corrcoef(y_true, y_pred)\n",
    "\n",
    "    print(\"Confusion Matrix:\")\n",
    "    print(f\"TN: {TN}, FP: {FP}, FN: {FN}, TP: {TP}\")\n",
    "    print()\n",
    "    print(\"Metrics:\")\n",
    "    print(f\"TPR (Recall):      {TPR:.4f}\")\n",
    "    print(f\"TNR (Specificity): {TNR:.4f}\")\n",
    "    print(f\"Precision:         {precision:.4f}\")\n",
    "    print(f\"F1-score:          {f1:.4f}\")\n",
    "    print(f\"MCC:               {mcc:.4f}\")\n"
   ]
  },
  {
   "cell_type": "code",
   "execution_count": 439,
   "metadata": {},
   "outputs": [
    {
     "name": "stdout",
     "output_type": "stream",
     "text": [
      "Confusion Matrix:\n",
      "TN: 75746, FP: 5, FN: 9, TP: 111\n",
      "\n",
      "Metrics:\n",
      "TPR (Recall):      0.9250\n",
      "TNR (Specificity): 0.9999\n",
      "Precision:         0.9569\n",
      "F1-score:          0.9407\n",
      "MCC:               0.9407\n"
     ]
    }
   ],
   "source": [
    "evaluate_all_metrics(y_test, final_preds)\n"
   ]
  },
  {
   "cell_type": "code",
   "execution_count": 440,
   "metadata": {
    "colab": {
     "base_uri": "https://localhost:8080/",
     "height": 599
    },
    "executionInfo": {
     "elapsed": 904,
     "status": "ok",
     "timestamp": 1739008255492,
     "user": {
      "displayName": "Mohammad Shanaa",
      "userId": "06611199972742748940"
     },
     "user_tz": -240
    },
    "id": "ML65tLV-8Hvg",
    "outputId": "1cd5d90b-d91a-4dcf-c32a-c91c1f6ee30d"
   },
   "outputs": [
    {
     "data": {
      "image/png": "[encoded data removed]",
      "text/plain": [
       "<Figure size 800x600 with 1 Axes>"
      ]
     },
     "metadata": {},
     "output_type": "display_data"
    },
    {
     "name": "stdout",
     "output_type": "stream",
     "text": [
      "AUC-ROC Score: 0.9885\n",
      "Optimal Threshold from Precision-Recall Curve: 0.1394\n"
     ]
    }
   ],
   "source": [
    "from sklearn.ensemble import VotingClassifier\n",
    "from sklearn.linear_model import LogisticRegression\n",
    "import xgboost as xgb\n",
    "from sklearn.pipeline import make_pipeline\n",
    "from sklearn.preprocessing import StandardScaler\n",
    "from sklearn.metrics import confusion_matrix, classification_report, roc_curve, auc\n",
    "import matplotlib.pyplot as plt\n",
    "from sklearn.svm import OneClassSVM\n",
    "import numpy as np\n",
    "\n",
    "# Compute ROC curve and AUC for weighted anomaly scores\n",
    "fpr, tpr, thresholds = roc_curve(y_test, weighted_scores)\n",
    "roc_auc = auc(fpr, tpr)\n",
    "\n",
    "# Plot ROC Curve\n",
    "plt.figure(figsize=(8,6))\n",
    "plt.plot(fpr, tpr, color='blue', lw=2, label=f'ROC curve (AUC = {roc_auc:.4f})')\n",
    "plt.plot([0, 1], [0, 1], color='grey', linestyle='--')  # Diagonal line for random guessing\n",
    "plt.xlim([0.0, 1.0])\n",
    "plt.ylim([0.0, 1.05])\n",
    "plt.xlabel('False Positive Rate (1 - Specificity)')\n",
    "plt.ylabel('True Positive Rate (Recall)')\n",
    "plt.title('Receiver Operating Characteristic (ROC) Curve')\n",
    "plt.legend(loc=\"lower right\")\n",
    "plt.show()\n",
    "\n",
    "# Print AUC Score\n",
    "print(f\"AUC-ROC Score: {roc_auc:.4f}\")\n",
    "\n",
    "\n",
    "from sklearn.metrics import precision_recall_curve\n",
    "\n",
    "# Compute Precision-Recall curve\n",
    "precision, recall, thresholds = precision_recall_curve(y_test, weighted_scores)\n",
    "\n",
    "# Find the threshold where precision and recall are balanced\n",
    "f1_scores = 2 * (precision * recall) / (precision + recall)\n",
    "optimal_idx = np.argmax(f1_scores)  # Find the best F1 score\n",
    "optimal_threshold_pr = thresholds[optimal_idx]\n",
    "\n",
    "print(f\"Optimal Threshold from Precision-Recall Curve: {optimal_threshold_pr:.4f}\")\n",
    "\n"
   ]
  },
  {
   "cell_type": "code",
   "execution_count": 441,
   "metadata": {},
   "outputs": [
    {
     "data": {
      "image/png": "[encoded data removed]",
      "text/plain": [
       "<Figure size 640x480 with 1 Axes>"
      ]
     },
     "metadata": {},
     "output_type": "display_data"
    }
   ],
   "source": [
    "from sklearn.metrics import precision_recall_curve\n",
    "import matplotlib.pyplot as plt\n",
    "\n",
    "precision, recall, thresholds = precision_recall_curve(y_test, weighted_scores)\n",
    "\n",
    "plt.plot(thresholds, precision[:-1], label='Precision')\n",
    "plt.plot(thresholds, recall[:-1], label='Recall')\n",
    "plt.xlabel('Threshold')\n",
    "plt.ylabel('Score')\n",
    "plt.title('Precision vs. Recall at Different Thresholds')\n",
    "plt.legend()\n",
    "plt.grid()\n",
    "plt.show()"
   ]
  }
 ],
 "metadata": {
  "accelerator": "GPU",
  "colab": {
   "authorship_tag": "ABX9TyPiPfgEsXP+YDgC378zC29Q",
   "gpuType": "L4",
   "machine_shape": "hm",
   "provenance": [
    {
     "file_id": "1xIWWDCKIUTrSpQLXJjVhUfPKlubJwk_8",
     "timestamp": 1737282360604
    },
    {
     "file_id": "1i_v9zpuD4KGkTq2nH6-XO7pZTW-YCmi0",
     "timestamp": 1737281724997
    },
    {
     "file_id": "1xHgJM1Toa0m8aCh_n86c8GAQJeZnumql",
     "timestamp": 1730835260838
    }
   ]
  },
  "kernelspec": {
   "display_name": "base",
   "language": "python",
   "name": "python3"
  },
  "language_info": {
   "codemirror_mode": {
    "name": "ipython",
    "version": 3
   },
   "file_extension": ".py",
   "mimetype": "text/x-python",
   "name": "python",
   "nbconvert_exporter": "python",
   "pygments_lexer": "ipython3",
   "version": "3.12.7"
  }
 },
 "nbformat": 4,
 "nbformat_minor": 0
}
